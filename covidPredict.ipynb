{
  "nbformat": 4,
  "nbformat_minor": 0,
  "metadata": {
    "colab": {
      "provenance": []
    },
    "kernelspec": {
      "name": "python3",
      "display_name": "Python 3"
    },
    "language_info": {
      "name": "python"
    }
  },
  "cells": [
    {
      "cell_type": "code",
      "execution_count": 1,
      "metadata": {
        "colab": {
          "base_uri": "https://localhost:8080/"
        },
        "id": "xtb5--9wNVDg",
        "outputId": "10291bac-0ec8-4063-ae40-5e6be8ae143d"
      },
      "outputs": [
        {
          "output_type": "stream",
          "name": "stdout",
          "text": [
            "Sınıflandırma Raporu:\n",
            "              precision    recall  f1-score   support\n",
            "\n",
            "           1       0.43      0.45      0.44        29\n",
            "           2       0.88      0.87      0.87       130\n",
            "\n",
            "    accuracy                           0.79       159\n",
            "   macro avg       0.65      0.66      0.66       159\n",
            "weighted avg       0.80      0.79      0.79       159\n",
            "\n"
          ]
        }
      ],
      "source": [
        "import pandas as pd\n",
        "from sklearn.model_selection import train_test_split\n",
        "from sklearn.ensemble import RandomForestClassifier\n",
        "from sklearn.metrics import classification_report\n",
        "\n",
        "#  1. Excel dosyasını oku\n",
        "df = pd.read_excel(\"/content/drive/MyDrive/COVID-19 Hospital Admissions Database.xlsx\", sheet_name=\"Formato Numérico\")\n",
        "\n",
        "#  2. Sütun adlarını temizle (boşlukları ve karakterleri düzelt)\n",
        "df.columns = df.columns.str.strip().str.replace('\\u00a0', ' ').str.replace(\"’\", \"'\")\n",
        "\n",
        "#  3. Kullanılacak sütunları tanımla\n",
        "columns_to_use = [\n",
        "    'Gender', 'Age group', 'Hospitalization in the Intensive Care Unit (ICU)',\n",
        "    'Chronic kidney disease', 'Overweight', 'Vascular accident (Stroke)',\n",
        "    'Sedentary lifestyle', 'HIV/AIDS', 'Cancer', \"Alzeimer's disease\",\n",
        "    \"Parkingson's disease\", 'Total number of comorbidities', 'Outcome'\n",
        "]\n",
        "\n",
        "#  4. Bu sütunları içeren alt veri seti oluştur\n",
        "df_model = df[columns_to_use].copy()\n",
        "\n",
        "#  5. Eksik verileri sil\n",
        "df_model = df_model.dropna()\n",
        "\n",
        "#  6. Özellikler (X) ve hedef değişkeni (y) ayır\n",
        "X = df_model.drop('Outcome', axis=1)\n",
        "y = df_model['Outcome']\n",
        "\n",
        "#  7. Eğitim ve test setine ayır\n",
        "X_train, X_test, y_train, y_test = train_test_split(X, y, test_size=0.2, random_state=42)\n",
        "\n",
        "#  8. Modeli kur ve eğit\n",
        "model = RandomForestClassifier(random_state=42)\n",
        "model.fit(X_train, y_train)\n",
        "\n",
        "#  9. Tahmin yap\n",
        "y_pred = model.predict(X_test)\n",
        "\n",
        "# 10. Performansı değerlendir\n",
        "print(\"Sınıflandırma Raporu:\")\n",
        "print(classification_report(y_test, y_pred))\n"
      ]
    }
  ]
}